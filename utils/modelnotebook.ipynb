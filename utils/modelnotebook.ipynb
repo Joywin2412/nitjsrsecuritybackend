{
 "cells": [
  {
   "cell_type": "code",
   "execution_count": 3,
   "metadata": {},
   "outputs": [
    {
     "name": "stdout",
     "output_type": "stream",
     "text": [
      "[1872.815]\n"
     ]
    }
   ],
   "source": [
    "\n",
    "import pandas as pd\n",
    "import numpy as np\n",
    "import pickle\n",
    "columns = pickle.load(open(\"columns.csv\", 'rb'))\n",
    "model = pickle.load(open(\"xgboostmodel2.sav\", 'rb'))\n",
    "state_name = input()\n",
    "season = input()\n",
    "crop = input()\n",
    "area = int(input())\n",
    "df2 = pd.DataFrame(0,index = range(1), columns=columns)\n",
    "df2['State_Name_'+state_name] = 1\n",
    "df2['Season_'+season] = 1\n",
    "df2['Crop_'+crop] = 1\n",
    "df2['Area'] = area\n",
    "\n",
    "Production = model.predict(df2)\n",
    "print(Production*area)"
   ]
  }
 ],
 "metadata": {
  "kernelspec": {
   "display_name": "Python 3",
   "language": "python",
   "name": "python3"
  },
  "language_info": {
   "codemirror_mode": {
    "name": "ipython",
    "version": 3
   },
   "file_extension": ".py",
   "mimetype": "text/x-python",
   "name": "python",
   "nbconvert_exporter": "python",
   "pygments_lexer": "ipython3",
   "version": "3.11.0"
  },
  "orig_nbformat": 4
 },
 "nbformat": 4,
 "nbformat_minor": 2
}
